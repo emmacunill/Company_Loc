{
 "cells": [
  {
   "cell_type": "code",
   "execution_count": 1,
   "metadata": {},
   "outputs": [],
   "source": [
    "import requests\n",
    "import pandas as pd\n",
    "from getpass import getpass\n",
    "import os\n",
    "import time\n",
    "from pymongo import MongoClient\n",
    "from bson.decimal128 import Decimal128\n",
    "from collections import defaultdict\n",
    "from dotenv import load_dotenv\n",
    "load_dotenv()\n",
    "import json\n",
    "import geojson\n",
    "from cartoframes.viz import Map, Layer, popup_element\n",
    "import geopandas as gpd\n",
    "import folium\n",
    "from folium.plugins import HeatMap\n",
    "from shapely.geometry import Polygon\n",
    "from folium import Icon\n",
    "from folium import plugins"
   ]
  },
  {
   "cell_type": "markdown",
   "metadata": {},
   "source": [
    "## PROCESS AND SOLUTIONS ##"
   ]
  },
  {
   "cell_type": "markdown",
   "metadata": {},
   "source": [
    "**IMPORT SOURCE DOCUMENTS**"
   ]
  },
  {
   "cell_type": "code",
   "execution_count": 2,
   "metadata": {},
   "outputs": [],
   "source": [
    "import src.exploration as exp\n",
    "import src.forsquare as fsq\n",
    "import src.visualization as vis"
   ]
  },
  {
   "cell_type": "markdown",
   "metadata": {},
   "source": [
    "**EXPLORATION FUNCTIONS**"
   ]
  },
  {
   "cell_type": "code",
   "execution_count": 3,
   "metadata": {},
   "outputs": [],
   "source": [
    "client = MongoClient(\"localhost:27017\")\n",
    "db = client[\"ironhack\"]\n",
    "c = db.get_collection(\"companies\")"
   ]
  },
  {
   "cell_type": "markdown",
   "metadata": {},
   "source": [
    "    FINDING COMPANIES WITH 2 OF THE REQUIREMENTS OF EMPLOYEES:\n",
    "    \n",
    "        - design companies in the city\n",
    "        - successful startups"
   ]
  },
  {
   "cell_type": "code",
   "execution_count": 6,
   "metadata": {},
   "outputs": [],
   "source": [
    "design_companies = exp.find_design_companies(c)\n",
    "successful_startups = exp.find_successful_startups(c)\n",
    "city_counts = exp.oc_city_counts(successful_startups, \"offices\", \"city\")\n",
    "city_counts_design= exp.oc_city_counts(design_companies, \"offices\", \"city\")"
   ]
  },
  {
   "cell_type": "code",
   "execution_count": 8,
   "metadata": {},
   "outputs": [
    {
     "data": {
      "text/html": [
       "<div>\n",
       "<style scoped>\n",
       "    .dataframe tbody tr th:only-of-type {\n",
       "        vertical-align: middle;\n",
       "    }\n",
       "\n",
       "    .dataframe tbody tr th {\n",
       "        vertical-align: top;\n",
       "    }\n",
       "\n",
       "    .dataframe thead th {\n",
       "        text-align: right;\n",
       "    }\n",
       "</style>\n",
       "<table border=\"1\" class=\"dataframe\">\n",
       "  <thead>\n",
       "    <tr style=\"text-align: right;\">\n",
       "      <th></th>\n",
       "      <th>Count</th>\n",
       "    </tr>\n",
       "  </thead>\n",
       "  <tbody>\n",
       "    <tr>\n",
       "      <th>San Francisco</th>\n",
       "      <td>190</td>\n",
       "    </tr>\n",
       "    <tr>\n",
       "      <th>New York</th>\n",
       "      <td>127</td>\n",
       "    </tr>\n",
       "    <tr>\n",
       "      <th>London</th>\n",
       "      <td>78</td>\n",
       "    </tr>\n",
       "    <tr>\n",
       "      <th>Seattle</th>\n",
       "      <td>43</td>\n",
       "    </tr>\n",
       "    <tr>\n",
       "      <th>Palo Alto</th>\n",
       "      <td>41</td>\n",
       "    </tr>\n",
       "  </tbody>\n",
       "</table>\n",
       "</div>"
      ],
      "text/plain": [
       "               Count\n",
       "San Francisco    190\n",
       "New York         127\n",
       "London            78\n",
       "Seattle           43\n",
       "Palo Alto         41"
      ]
     },
     "execution_count": 8,
     "metadata": {},
     "output_type": "execute_result"
    }
   ],
   "source": [
    "city_counts.head()"
   ]
  },
  {
   "cell_type": "code",
   "execution_count": 9,
   "metadata": {},
   "outputs": [
    {
     "data": {
      "text/html": [
       "<div>\n",
       "<style scoped>\n",
       "    .dataframe tbody tr th:only-of-type {\n",
       "        vertical-align: middle;\n",
       "    }\n",
       "\n",
       "    .dataframe tbody tr th {\n",
       "        vertical-align: top;\n",
       "    }\n",
       "\n",
       "    .dataframe thead th {\n",
       "        text-align: right;\n",
       "    }\n",
       "</style>\n",
       "<table border=\"1\" class=\"dataframe\">\n",
       "  <thead>\n",
       "    <tr style=\"text-align: right;\">\n",
       "      <th></th>\n",
       "      <th>Count</th>\n",
       "    </tr>\n",
       "  </thead>\n",
       "  <tbody>\n",
       "    <tr>\n",
       "      <th>San Francisco</th>\n",
       "      <td>1</td>\n",
       "    </tr>\n",
       "    <tr>\n",
       "      <th>Collingwood</th>\n",
       "      <td>1</td>\n",
       "    </tr>\n",
       "    <tr>\n",
       "      <th>Berlin</th>\n",
       "      <td>1</td>\n",
       "    </tr>\n",
       "    <tr>\n",
       "      <th>London</th>\n",
       "      <td>1</td>\n",
       "    </tr>\n",
       "    <tr>\n",
       "      <th>Brooklyn</th>\n",
       "      <td>1</td>\n",
       "    </tr>\n",
       "    <tr>\n",
       "      <th>Ellensburg</th>\n",
       "      <td>1</td>\n",
       "    </tr>\n",
       "  </tbody>\n",
       "</table>\n",
       "</div>"
      ],
      "text/plain": [
       "               Count\n",
       "San Francisco      1\n",
       "Collingwood        1\n",
       "Berlin             1\n",
       "London             1\n",
       "Brooklyn           1\n",
       "Ellensburg         1"
      ]
     },
     "execution_count": 9,
     "metadata": {},
     "output_type": "execute_result"
    }
   ],
   "source": [
    "city_counts_design"
   ]
  },
  {
   "cell_type": "markdown",
   "metadata": {},
   "source": [
    "FINDINGS"
   ]
  },
  {
   "cell_type": "markdown",
   "metadata": {},
   "source": [
    "From what I found out, the top 3 cities to place the company are, San Francisco, New York, and London. \n",
    "\n",
    "In those cities there are the greatest number of successful startups and other Design companies to satisfy the Designers requirements.\n",
    "\n",
    "But as the top 2 are in the States, instead of London I think it's better to find another city in the states to filter from. In that case the next option it's going to be Seattle. "
   ]
  },
  {
   "cell_type": "markdown",
   "metadata": {},
   "source": [
    "**GEOJSON AND 4SQR**"
   ]
  },
  {
   "cell_type": "code",
   "execution_count": 10,
   "metadata": {},
   "outputs": [],
   "source": [
    "client = MongoClient(\"localhost:27017\")\n",
    "db = client[\"cities_project\"]"
   ]
  },
  {
   "cell_type": "code",
   "execution_count": 11,
   "metadata": {},
   "outputs": [],
   "source": [
    "token = os.getenv(\"token\")"
   ]
  },
  {
   "cell_type": "markdown",
   "metadata": {},
   "source": [
    "    GETTING LOCATION FOR EACH CITY"
   ]
  },
  {
   "cell_type": "code",
   "execution_count": null,
   "metadata": {},
   "outputs": [],
   "source": [
    "san_francisco_loc = fsq.get_coordinates(\"501 Twin Peaks Blvd, San Francisco, CA 94114, Estados Unidos\")\n",
    "new_york_loc = fsq.get_coordinates(\"Central Park N, New York, New York\")\n",
    "seattle_loc = fsq.get_coordinates(\"1027 S Washington St, Seattle, WA 98104, EE. UU.\")"
   ]
  },
  {
   "cell_type": "code",
   "execution_count": 19,
   "metadata": {},
   "outputs": [],
   "source": [
    "san_francisco_loc = [37.75404,-122.44721]\n",
    "new_york_loc = [40.79724,-73.94968]\n",
    "seattle_loc = [47.60065,-122.31819]"
   ]
  },
  {
   "cell_type": "markdown",
   "metadata": {},
   "source": [
    "    FINDING REQUIREMENTS FOR EACH CITY AND UPLOADING THEM TO MONGO"
   ]
  },
  {
   "cell_type": "markdown",
   "metadata": {},
   "source": [
    "    - SAN FRANCISCO"
   ]
  },
  {
   "cell_type": "code",
   "execution_count": null,
   "metadata": {},
   "outputs": [],
   "source": [
    "starbucks_SF = fsq.foursquare_places (\"Starbucks\",san_francisco_loc, \"SFstarbucks\")\n",
    "basketball_stadiums_SF = fsq.foursquare_places (\"Basketball stadium\",san_francisco_loc, \"SFbaskStadium\")\n",
    "schools_SF = fsq.foursquare_places (\"schools\", san_francisco_loc, \"SFschools\")\n",
    "airport_SF = fsq.foursquare_places (\"airport\",san_francisco_loc,\"SFairport\")\n",
    "train_stations_SF = fsq.foursquare_places (\"train station\",san_francisco_loc, \"SFtrainStations\")\n",
    "pet_grooming_SF = fsq.foursquare_places (\"pet grooming\", san_francisco_loc,\"SFpet_grooming\")\n",
    "dog_parks_SF = fsq.foursquare_places (\"dog park\", san_francisco_loc,\"SFdog_parks\")\n",
    "bars_clubs_SF = fsq.foursquare_places (\"night club\",san_francisco_loc,\"SFbars_clubs\")\n",
    "vegan_vegetarian_SF = fsq.foursquare_places (\"vegan restaurant\", san_francisco_loc,\"SFvegan_vegetarian\")"
   ]
  },
  {
   "cell_type": "markdown",
   "metadata": {},
   "source": [
    "    - NEW YORK CITY"
   ]
  },
  {
   "cell_type": "code",
   "execution_count": null,
   "metadata": {},
   "outputs": [],
   "source": [
    "starbucks_NYC = fsq.foursquare_places (\"Starbucks\",new_york_loc,\"NYCstarbucks\")\n",
    "basketball_stadiums_NYC = fsq.foursquare_places (\"Basketball stadium\",new_york_loc,\"NYCbaskStadium\")\n",
    "schools_NYC = fsq.foursquare_places (\"schools\",new_york_loc,\"NYCschools\")\n",
    "airport_NYC = fsq.foursquare_places (\"airport\",new_york_loc,\"NYCairport\")\n",
    "train_stations_NYC = fsq.foursquare_places (\"train station\",new_york_loc,\"NYCtrain_stations\")\n",
    "pet_grooming_NYC = fsq.foursquare_places (\"pet grooming\",new_york_loc,\"NYCpet_grooming\")\n",
    "dog_parks_NYC = fsq.foursquare_places (\"dog park\",new_york_loc,\"NYCdog_parks\")\n",
    "bars_clubs_NYC = fsq.foursquare_places (\"night club\",new_york_loc,\"NYCbars_clubs\")\n",
    "vegan_vegetarian_NYC = fsq.foursquare_places (\"vegan restaurant\",new_york_loc,\"NYCvegan_vegetarian\")"
   ]
  },
  {
   "cell_type": "markdown",
   "metadata": {},
   "source": [
    "     - SEATTLE"
   ]
  },
  {
   "cell_type": "code",
   "execution_count": null,
   "metadata": {},
   "outputs": [],
   "source": [
    "starbucks_ST = fsq.foursquare_places (\"Starbucks\",seattle_loc,\"STstarbucks\")\n",
    "basketball_stadiums_ST = fsq.foursquare_places (\"Basketball stadium\",seattle_loc,\"STbaskStadium\")\n",
    "schools_ST = fsq.foursquare_places (\"schools\",seattle_loc,\"STschools\")\n",
    "airport_ST = fsq.foursquare_places (\"airport\",seattle_loc,\"STairport\")\n",
    "train_stations_ST = fsq.foursquare_places (\"train station\",seattle_loc,\"STtrain_stations\")\n",
    "pet_grooming_ST = fsq.foursquare_places (\"pet grooming\",seattle_loc, \"STpet_grooming\")\n",
    "dog_parks_ST = fsq.foursquare_places (\"dog park\",seattle_loc,\"STdog_parks\")\n",
    "bars_clubs_ST = fsq.foursquare_places (\"night club\",seattle_loc,\"STbars_clubs\")\n",
    "vegan_vegetarian_ST = fsq.foursquare_places (\"vegan restaurant\",seattle_loc,\"STvegan_vegetarian\")"
   ]
  },
  {
   "cell_type": "markdown",
   "metadata": {},
   "source": [
    "Once we've got all the collections uploaded to mongo we can start looking at the data and plotting."
   ]
  },
  {
   "cell_type": "markdown",
   "metadata": {},
   "source": [
    "**VISUALIZATION**"
   ]
  },
  {
   "cell_type": "markdown",
   "metadata": {},
   "source": [
    "    IMPORTING MONGO COLLECTIONS OF REQUIREMENTS"
   ]
  },
  {
   "cell_type": "markdown",
   "metadata": {},
   "source": [
    "    - SAN FRANCISCO"
   ]
  },
  {
   "cell_type": "code",
   "execution_count": 15,
   "metadata": {},
   "outputs": [],
   "source": [
    "SFstarbucks = vis.mongodb_to_df(\"SFstarbucks\")\n",
    "SFbaskStadium = vis.mongodb_to_df(\"SFbaskStadium\")\n",
    "SFschools = vis.mongodb_to_df(\"SFschools\")\n",
    "SFairport = vis.mongodb_to_df(\"SFairport\")\n",
    "SFtrainStations = vis.mongodb_to_df(\"SFtrainStations\")\n",
    "SFpet_grooming = vis.mongodb_to_df(\"SFpet_grooming\")\n",
    "SFdog_parks = vis.mongodb_to_df(\"SFdog_parks\")\n",
    "SFbars_clubs = vis.mongodb_to_df(\"SFbars_clubs\")\n",
    "SFvegan_vegetarian = vis.mongodb_to_df(\"SFvegan_vegetarian\")"
   ]
  },
  {
   "cell_type": "markdown",
   "metadata": {},
   "source": [
    "    - NEW YORK CITY"
   ]
  },
  {
   "cell_type": "code",
   "execution_count": 13,
   "metadata": {},
   "outputs": [],
   "source": [
    "NYCstarbucks = vis.mongodb_to_df(\"NYCstarbucks\")\n",
    "NYCbaskStadium = vis.mongodb_to_df(\"NYCbaskStadium\")\n",
    "NYCschools = vis.mongodb_to_df(\"NYCschools\")\n",
    "NYCairport = vis.mongodb_to_df(\"NYCairport\")\n",
    "NYCtrainStations = vis.mongodb_to_df(\"NYCtrain_stations\")\n",
    "NYCpet_grooming = vis.mongodb_to_df(\"NYCpet_grooming\")\n",
    "NYCdog_parks = vis.mongodb_to_df(\"NYCdog_parks\")\n",
    "NYCbars_clubs = vis.mongodb_to_df(\"NYCbars_clubs\")\n",
    "NYCvegan_vegetarian = vis.mongodb_to_df(\"NYCvegan_vegetarian\")"
   ]
  },
  {
   "cell_type": "markdown",
   "metadata": {},
   "source": [
    "    - SEATTLE"
   ]
  },
  {
   "cell_type": "code",
   "execution_count": 16,
   "metadata": {},
   "outputs": [],
   "source": [
    "STstarbucks = vis.mongodb_to_df(\"STstarbucks\")\n",
    "STbaskStadium = vis.mongodb_to_df(\"STbaskStadium\")\n",
    "STschools = vis.mongodb_to_df(\"STschools\")\n",
    "STairport = vis.mongodb_to_df(\"STairport\")\n",
    "STtrainStations = vis.mongodb_to_df(\"STtrain_stations\")\n",
    "STpet_grooming = vis.mongodb_to_df(\"STpet_grooming\")\n",
    "STdog_parks = vis.mongodb_to_df(\"STdog_parks\")\n",
    "STbars_clubs = vis.mongodb_to_df(\"STbars_clubs\")\n",
    "STvegan_vegetarian = vis.mongodb_to_df(\"STvegan_vegetarian\")"
   ]
  },
  {
   "cell_type": "markdown",
   "metadata": {},
   "source": [
    "    IMPORT AND READ GEOJSONS OF THE CITIES  "
   ]
  },
  {
   "cell_type": "code",
   "execution_count": 18,
   "metadata": {},
   "outputs": [],
   "source": [
    "SF_gj = vis.read_geojson(\"data/SanFrancisco.Neighborhoods.json\")\n",
    "NYC_gj = vis.read_geojson(\"data/d085e2f8d0b54d4590b1e7d1f35594c1pediacitiesnycneighborhoods.geojson\")\n",
    "ST_gj = vis.read_geojson(\"data/Neighborhood_Map_Atlas_Neighborhoods.geojson\")"
   ]
  },
  {
   "cell_type": "markdown",
   "metadata": {},
   "source": [
    "- HEAT MAPS TO COMPARE DENSITY OF REQUIREMENTS IN EACH CITY"
   ]
  },
  {
   "cell_type": "markdown",
   "metadata": {},
   "source": [
    "    SAN FRANCISCO"
   ]
  },
  {
   "cell_type": "markdown",
   "metadata": {},
   "source": [
    "    NEW YORK CITY"
   ]
  },
  {
   "cell_type": "markdown",
   "metadata": {},
   "source": [
    "    SEATTLE"
   ]
  },
  {
   "cell_type": "code",
   "execution_count": null,
   "metadata": {},
   "outputs": [],
   "source": []
  },
  {
   "cell_type": "code",
   "execution_count": null,
   "metadata": {},
   "outputs": [],
   "source": []
  },
  {
   "cell_type": "code",
   "execution_count": null,
   "metadata": {},
   "outputs": [],
   "source": []
  },
  {
   "cell_type": "code",
   "execution_count": null,
   "metadata": {},
   "outputs": [],
   "source": []
  },
  {
   "cell_type": "code",
   "execution_count": null,
   "metadata": {},
   "outputs": [],
   "source": []
  },
  {
   "cell_type": "code",
   "execution_count": null,
   "metadata": {},
   "outputs": [],
   "source": []
  }
 ],
 "metadata": {
  "kernelspec": {
   "display_name": "ironhack",
   "language": "python",
   "name": "python3"
  },
  "language_info": {
   "codemirror_mode": {
    "name": "ipython",
    "version": 3
   },
   "file_extension": ".py",
   "mimetype": "text/x-python",
   "name": "python",
   "nbconvert_exporter": "python",
   "pygments_lexer": "ipython3",
   "version": "3.11.5"
  },
  "orig_nbformat": 4
 },
 "nbformat": 4,
 "nbformat_minor": 2
}
